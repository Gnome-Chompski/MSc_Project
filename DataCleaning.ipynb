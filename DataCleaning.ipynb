{
 "cells": [
  {
   "cell_type": "markdown",
   "metadata": {},
   "source": [
    "There are a few issues with loading the data, some improperly formatted rows, if choosing to ignore the bad rows it contains 9373 rows in total from a CSV that had 10688 rows, rather large amount due to mismatch between number of items on a line and the number of columns, due to line breaks in the descriptions only 17 of the lines were badly formatted.\n",
    "\n",
    "A cause for concern there is tweet data for 9662 users but the user table only contains 9380 users."
   ]
  },
  {
   "cell_type": "code",
   "execution_count": 3,
   "metadata": {
    "collapsed": true
   },
   "outputs": [],
   "source": [
    "from gender_detector.gender_detector import GenderDetector as gd\n",
    "import numpy as np\n",
    "import pandas as pd\n",
    "import re\n",
    "import separateGUsers as sgu\n",
    "\n",
    "#twitter_Users = pd.read_csv(\"usersTwitter.csv\", sep=\",\", encoding=\"utf-8\", index_col=False, usecols=range(20))\n",
    "#twitter_Users.head()"
   ]
  },
  {
   "cell_type": "markdown",
   "metadata": {},
   "source": [
    "# Check For Duplicate Users and Tweets"
   ]
  },
  {
   "cell_type": "code",
   "execution_count": 38,
   "metadata": {},
   "outputs": [
    {
     "data": {
      "text/plain": [
       "False    8610\n",
       "True      770\n",
       "dtype: int64"
      ]
     },
     "execution_count": 38,
     "metadata": {},
     "output_type": "execute_result"
    }
   ],
   "source": [
    "twitter_Users.duplicated().value_counts()"
   ]
  },
  {
   "cell_type": "markdown",
   "metadata": {},
   "source": [
    "770 duplicate rows in the user frame, will need to be dropped"
   ]
  },
  {
   "cell_type": "code",
   "execution_count": 5,
   "metadata": {},
   "outputs": [
    {
     "data": {
      "text/plain": [
       "False    170\n",
       "dtype: int64"
      ]
     },
     "execution_count": 5,
     "metadata": {},
     "output_type": "execute_result"
    }
   ],
   "source": [
    "tweets = pd.read_csv(\"usertestTweets/jooseboks.csv\", sep=\",\", encoding=\"utf-8\", index_col=False, usecols=range(24))\n",
    "tweets.duplicated().value_counts()"
   ]
  },
  {
   "cell_type": "markdown",
   "metadata": {},
   "source": [
    "Take list of google users, compare to twitter users to ensure one to one correlation and removing pages and keeping people. Select columns that are of interest and relevant to the model and write to file\n",
    "\n",
    "__Don't run cell below more than once__"
   ]
  },
  {
   "cell_type": "code",
   "execution_count": 15,
   "metadata": {
    "collapsed": true
   },
   "outputs": [],
   "source": [
    "users = sgu.read_dict_pairs()\n",
    "\n",
    "twitter_users = pd.read_csv(\"usersTwitter.csv\", sep=\",\", encoding=\"utf-8\", index_col=False, usecols=range(20))\n",
    "twFix = twitter_users[twitter_users.screen_name.isin(users.values())].drop_duplicates()\n",
    "twFix = twFix[[\"id_str\", \"name\", \"screen_name\", \"location\", \"description\", \"url\", \"followers_count\", \"friends_count\", \"listed_count\", \"statuses_count\", \"lang\"]]\n",
    "twFix.set_index(\"id_str\").to_csv(\"usersTrueTwitter.csv\", index_label=\"id_str\", encoding=\"utf-8\")\n"
   ]
  },
  {
   "cell_type": "markdown",
   "metadata": {},
   "source": [
    "Read in filtered twitter users"
   ]
  },
  {
   "cell_type": "code",
   "execution_count": 23,
   "metadata": {},
   "outputs": [],
   "source": [
    "users = pd.read_csv(\"usersTrueTwitter.csv\", sep=\",\", index_col=\"id_str\", encoding=\"utf-8\", engine='python')"
   ]
  },
  {
   "cell_type": "markdown",
   "metadata": {},
   "source": [
    "Play around with the gender guesser thing. Picked US because it is likely to include spanish names as well"
   ]
  },
  {
   "cell_type": "code",
   "execution_count": 17,
   "metadata": {},
   "outputs": [
    {
     "data": {
      "text/plain": [
       "'male'"
      ]
     },
     "execution_count": 17,
     "metadata": {},
     "output_type": "execute_result"
    }
   ],
   "source": [
    "test = gd(\"us\")\n",
    "test.guess(\"Emilia Miller\")\n",
    "name = users.iloc[0,0]\n",
    "fname = name.split()[0]\n",
    "test.guess(fname) #Justin\n",
    "test.guess(\"the\")"
   ]
  },
  {
   "cell_type": "markdown",
   "metadata": {},
   "source": [
    "Try out regular expression match first token of only characters in case some punctuation or numbers are mixed in there"
   ]
  },
  {
   "cell_type": "code",
   "execution_count": 18,
   "metadata": {},
   "outputs": [],
   "source": [
    "reg = re.compile(\"[a-z]*\", re.IGNORECASE)\n",
    "match = reg.match(\"Ber.t J. Gives, Jr.\")\n"
   ]
  },
  {
   "cell_type": "markdown",
   "metadata": {},
   "source": [
    "Assign genders to the twitter users using the package. Haven't created checks for accuracy but should. The name string is tokenised and the first token is match to the regexp and guessed. Sometimes the thing throws KeyErrors (disallowed chars) and IndexErrors (empty string).\n",
    "\n",
    "__Takes a while to run so please save yourself the pain and load in the file I've already prepped. If you overwrite re-run this cell__"
   ]
  },
  {
   "cell_type": "code",
   "execution_count": 19,
   "metadata": {},
   "outputs": [
    {
     "name": "stdout",
     "output_type": "stream",
     "text": [
      "Done\n"
     ]
    }
   ],
   "source": [
    "genderlist = []\n",
    "gend = gd(\"us\")\n",
    "reg = re.compile(\"[a-z]*\", re.IGNORECASE)\n",
    "for name in users.name:\n",
    "    try:\n",
    "        if name is None:\n",
    "            raise KeyError\n",
    "        name = name.split()[0] #Take the first name prior to whitespace\n",
    "        name = reg.match(name).group()\n",
    "        gender = gend.guess(name)\n",
    "        genderlist.append(gender)\n",
    "    except (KeyError, IndexError):\n",
    "        genderlist.append(\"unknown\")\n",
    "print(\"Done\")"
   ]
  },
  {
   "cell_type": "markdown",
   "metadata": {},
   "source": [
    "Write the dataframe to a file, cannot be bothered to run all these cells whenever I want to start"
   ]
  },
  {
   "cell_type": "code",
   "execution_count": 20,
   "metadata": {},
   "outputs": [],
   "source": [
    "users['gender'] = genderlist\n",
    "users.to_csv(\"usersTrueTwitter.csv\", index_label=\"id_str\", encoding=\"utf-8\")"
   ]
  },
  {
   "cell_type": "markdown",
   "metadata": {},
   "source": [
    "Read in both dataframes for the user data"
   ]
  },
  {
   "cell_type": "code",
   "execution_count": 24,
   "metadata": {},
   "outputs": [],
   "source": [
    "usersG = pd.read_csv(\"usersGoogle.csv\", sep=\",\", index_col=\"id\", quotechar=\"\\\"\", encoding=\"utf-8\", engine=\"c\")\n",
    "usersT = pd.read_csv(\"usersTrueTwitter.csv\", sep=\",\", index_col=\"id_str\", encoding=\"utf-8\", engine='python')"
   ]
  },
  {
   "cell_type": "markdown",
   "metadata": {},
   "source": [
    "Encode the Gender Column for both dataframes, dictionary initialised beforehand to see one-hot encoding"
   ]
  },
  {
   "cell_type": "code",
   "execution_count": 22,
   "metadata": {},
   "outputs": [],
   "source": [
    "encDict = {\"unknown\":0,\"none\":0,\"other\":0,\"male\":1,\"female\":2}\n",
    "usersT['gender_enc'] = usersT.gender.apply(lambda x: encDict[str(x).lower()])\n",
    "usersG['gender_enc'] = usersG.gender.apply(lambda x: encDict[str(x).lower()])"
   ]
  },
  {
   "cell_type": "code",
   "execution_count": null,
   "metadata": {},
   "outputs": [],
   "source": []
  }
 ],
 "metadata": {
  "kernelspec": {
   "display_name": "mscproj",
   "language": "python",
   "name": "mscproj"
  },
  "language_info": {
   "codemirror_mode": {
    "name": "ipython",
    "version": 3
   },
   "file_extension": ".py",
   "mimetype": "text/x-python",
   "name": "python",
   "nbconvert_exporter": "python",
   "pygments_lexer": "ipython3",
   "version": "3.6.5"
  }
 },
 "nbformat": 4,
 "nbformat_minor": 2
}
