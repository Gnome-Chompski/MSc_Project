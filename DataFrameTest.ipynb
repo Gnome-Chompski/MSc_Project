{
 "cells": [
  {
   "cell_type": "markdown",
   "metadata": {},
   "source": [
    "Test area for loading in data frames"
   ]
  },
  {
   "cell_type": "code",
   "execution_count": 1,
   "metadata": {
    "collapsed": true,
    "scrolled": true
   },
   "outputs": [],
   "source": [
    "import pandas as pd\n",
    "import json, csv\n",
    "\n",
    "# headers = []\n",
    "# with open(\"userAttributes.csv\", \"r\", encoding=\"utf-8\") as fl:\n",
    "#     userAtt = csv.reader(fl, delimiter=\",\")\n",
    "#     for item in userAtt:\n",
    "#         headers.append(item)\n",
    "# headers[0].pop()\n",
    "# headers = headers[0]\n",
    "\n",
    "# tweetHeaders = []\n",
    "# with open(\"tweetAttributes.csv\", \"r\", encoding=\"utf-8\") as tA:\n",
    "#     tweetAtt = csv.reader(tA, delimiter=\",\")\n",
    "#     for item in tweetAtt:\n",
    "#         tweetHeaders.append(item)\n",
    "# tweetHeaders[0].pop()\n",
    "# tweetHeaders = tweetHeaders[0]\n",
    "\n",
    "pd.set_option('display.max_rows', None)\n",
    "pd.set_option('display.max_columns', None)\n"
   ]
  },
  {
   "cell_type": "code",
   "execution_count": 4,
   "metadata": {},
   "outputs": [
    {
     "data": {
      "text/plain": [
       "(9380, 1)"
      ]
     },
     "execution_count": 4,
     "metadata": {},
     "output_type": "execute_result"
    }
   ],
   "source": [
    "df = pd.read_csv(\"usersTwitter.csv\", index_col=False, usecols=range(1))\n",
    "df.shape"
   ]
  },
  {
   "cell_type": "code",
   "execution_count": null,
   "metadata": {
    "collapsed": true
   },
   "outputs": [],
   "source": [
    "screenName = \"\"\n",
    "path_str = \"usertestTweets/\" + screenName + \".csv\"\n",
    "dft = pd.read_csv(path_str, names=tweetHeaders, index_col=False)\n",
    "dft"
   ]
  },
  {
   "cell_type": "code",
   "execution_count": null,
   "metadata": {
    "collapsed": true
   },
   "outputs": [],
   "source": []
  }
 ],
 "metadata": {
  "kernelspec": {
   "display_name": "Python 3",
   "language": "python",
   "name": "python3"
  },
  "language_info": {
   "codemirror_mode": {
    "name": "ipython",
    "version": 3
   },
   "file_extension": ".py",
   "mimetype": "text/x-python",
   "name": "python",
   "nbconvert_exporter": "python",
   "pygments_lexer": "ipython3",
   "version": "3.6.3"
  }
 },
 "nbformat": 4,
 "nbformat_minor": 2
}
